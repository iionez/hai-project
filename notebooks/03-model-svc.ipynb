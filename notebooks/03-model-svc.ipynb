{
 "cells": [
  {
   "cell_type": "code",
   "execution_count": 6,
   "metadata": {},
   "outputs": [],
   "source": [
    "import pandas as pd\n",
    "import sklearn\n",
    "\n",
    "pt_info_clean = pd.read_csv(\"../data/interim/pt_info_clean.csv\")"
   ]
  },
  {
   "cell_type": "code",
   "execution_count": 5,
   "metadata": {},
   "outputs": [],
   "source": [
    "from sklearn.pipeline import Pipeline\n",
    "import pickle, os\n",
    "\n",
    "# loading in feature vectors pipeline\n",
    "filename = 'feature_pipeline.sav'\n",
    "feat_pipeline = pickle.load(open(filename, 'rb'))\n",
    "\n",
    "feature_pipeline = Pipeline([\n",
    "    ('features',feat_pipeline)\n",
    "])"
   ]
  },
  {
   "cell_type": "markdown",
   "metadata": {},
   "source": [
    "split into training and test"
   ]
  },
  {
   "cell_type": "code",
   "execution_count": 24,
   "metadata": {},
   "outputs": [
    {
     "name": "stdout",
     "output_type": "stream",
     "text": [
      "     Unnamed: 0  mrsa_positive   MITRAL REGURGITATION  ABDOMINAL PAIN  \\\n",
      "28           28            0.0                      0               0   \n",
      "100         100            1.0                      0               0   \n",
      "12           12            0.0                      0               0   \n",
      "62           62            0.0                      0               0   \n",
      "42           42            0.0                      0               0   \n",
      "..          ...            ...                    ...             ...   \n",
      "6             6            0.0                      1               0   \n",
      "123         123            0.0                      0               0   \n",
      "114         114            0.0                      0               0   \n",
      "99           99            1.0                      0               0   \n",
      "135         135            0.0                      0               0   \n",
      "\n",
      "     ABSCESS  ACUTE CHOLANGITIS  ACUTE CHOLECYSTITIS  \\\n",
      "28         0                  0                    0   \n",
      "100        0                  0                    0   \n",
      "12         0                  0                    0   \n",
      "62         0                  0                    0   \n",
      "42         0                  0                    0   \n",
      "..       ...                ...                  ...   \n",
      "6          0                  0                    0   \n",
      "123        0                  0                    0   \n",
      "114        0                  0                    0   \n",
      "99         0                  0                    0   \n",
      "135        0                  0                    0   \n",
      "\n",
      "     ACUTE PULMONARY EMBOLISM  ACUTE RENAL FAILURE  \\\n",
      "28                          0                    0   \n",
      "100                         0                    0   \n",
      "12                          0                    0   \n",
      "62                          0                    0   \n",
      "42                          0                    0   \n",
      "..                        ...                  ...   \n",
      "6                           0                    0   \n",
      "123                         0                    0   \n",
      "114                         0                    0   \n",
      "99                          0                    0   \n",
      "135                         0                    0   \n",
      "\n",
      "     ACUTE RESPIRATORY DISTRESS SYNDROME  ...  \\\n",
      "28                                     0  ...   \n",
      "100                                    0  ...   \n",
      "12                                     0  ...   \n",
      "62                                     0  ...   \n",
      "42                                     0  ...   \n",
      "..                                   ...  ...   \n",
      "6                                      0  ...   \n",
      "123                                    0  ...   \n",
      "114                                    0  ...   \n",
      "99                                     0  ...   \n",
      "135                                    0  ...   \n",
      "\n",
      "     ethnicity_UNKNOWN/NOT SPECIFIED  ethnicity_WHITE  \\\n",
      "28                                 0                0   \n",
      "100                                0                0   \n",
      "12                                 0                1   \n",
      "62                                 0                1   \n",
      "42                                 0                1   \n",
      "..                               ...              ...   \n",
      "6                                  0                1   \n",
      "123                                0                1   \n",
      "114                                0                1   \n",
      "99                                 0                0   \n",
      "135                                0                1   \n",
      "\n",
      "     admission_type_ELECTIVE  admission_type_EMERGENCY  admission_type_URGENT  \\\n",
      "28                         0                         1                      0   \n",
      "100                        0                         1                      0   \n",
      "12                         0                         1                      0   \n",
      "62                         1                         0                      0   \n",
      "42                         0                         1                      0   \n",
      "..                       ...                       ...                    ...   \n",
      "6                          1                         0                      0   \n",
      "123                        0                         1                      0   \n",
      "114                        0                         1                      0   \n",
      "99                         0                         1                      0   \n",
      "135                        0                         1                      0   \n",
      "\n",
      "     admission_location_CLINIC REFERRAL/PREMATURE  \\\n",
      "28                                              0   \n",
      "100                                             0   \n",
      "12                                              0   \n",
      "62                                              0   \n",
      "42                                              0   \n",
      "..                                            ...   \n",
      "6                                               0   \n",
      "123                                             0   \n",
      "114                                             0   \n",
      "99                                              1   \n",
      "135                                             0   \n",
      "\n",
      "     admission_location_EMERGENCY ROOM ADMIT  \\\n",
      "28                                         1   \n",
      "100                                        0   \n",
      "12                                         1   \n",
      "62                                         0   \n",
      "42                                         1   \n",
      "..                                       ...   \n",
      "6                                          0   \n",
      "123                                        1   \n",
      "114                                        1   \n",
      "99                                         0   \n",
      "135                                        1   \n",
      "\n",
      "     admission_location_PHYS REFERRAL/NORMAL DELI  \\\n",
      "28                                              0   \n",
      "100                                             0   \n",
      "12                                              0   \n",
      "62                                              1   \n",
      "42                                              0   \n",
      "..                                            ...   \n",
      "6                                               1   \n",
      "123                                             0   \n",
      "114                                             0   \n",
      "99                                              0   \n",
      "135                                             0   \n",
      "\n",
      "     admission_location_TRANSFER FROM HOSP/EXTRAM  \\\n",
      "28                                              0   \n",
      "100                                             0   \n",
      "12                                              0   \n",
      "62                                              0   \n",
      "42                                              0   \n",
      "..                                            ...   \n",
      "6                                               0   \n",
      "123                                             0   \n",
      "114                                             0   \n",
      "99                                              0   \n",
      "135                                             0   \n",
      "\n",
      "     admission_location_TRANSFER FROM SKILLED NUR  \n",
      "28                                              0  \n",
      "100                                             1  \n",
      "12                                              0  \n",
      "62                                              0  \n",
      "42                                              0  \n",
      "..                                            ...  \n",
      "6                                               0  \n",
      "123                                             0  \n",
      "114                                             0  \n",
      "99                                              0  \n",
      "135                                             0  \n",
      "\n",
      "[115 rows x 125 columns]\n"
     ]
    }
   ],
   "source": [
    "from sklearn import model_selection\n",
    "x_train, x_test, y_train, y_test = model_selection.train_test_split(pt_info_clean, \\\n",
    "                                                                    pt_info_clean['mrsa_positive'], \\\n",
    "                                                                    test_size=0.2)\n",
    "print(x_train)"
   ]
  },
  {
   "cell_type": "code",
   "execution_count": 25,
   "metadata": {},
   "outputs": [
    {
     "data": {
      "text/plain": [
       "SVC()"
      ]
     },
     "execution_count": 25,
     "metadata": {},
     "output_type": "execute_result"
    }
   ],
   "source": [
    "from sklearn.svm import SVC\n",
    "\n",
    "clf = sklearn.svm.SVC()\n",
    "clf.fit(x_train, y_train)"
   ]
  },
  {
   "cell_type": "code",
   "execution_count": 26,
   "metadata": {},
   "outputs": [],
   "source": [
    "predictions = clf.predict(x_test)"
   ]
  },
  {
   "cell_type": "code",
   "execution_count": 29,
   "metadata": {},
   "outputs": [
    {
     "data": {
      "text/html": [
       "\n",
       "<div id=\"altair-viz-e2c9a62ed2594406837d6f49f34f3abe\"></div>\n",
       "<script type=\"text/javascript\">\n",
       "  (function(spec, embedOpt){\n",
       "    let outputDiv = document.currentScript.previousElementSibling;\n",
       "    if (outputDiv.id !== \"altair-viz-e2c9a62ed2594406837d6f49f34f3abe\") {\n",
       "      outputDiv = document.getElementById(\"altair-viz-e2c9a62ed2594406837d6f49f34f3abe\");\n",
       "    }\n",
       "    const paths = {\n",
       "      \"vega\": \"https://cdn.jsdelivr.net/npm//vega@5?noext\",\n",
       "      \"vega-lib\": \"https://cdn.jsdelivr.net/npm//vega-lib?noext\",\n",
       "      \"vega-lite\": \"https://cdn.jsdelivr.net/npm//vega-lite@4.8.1?noext\",\n",
       "      \"vega-embed\": \"https://cdn.jsdelivr.net/npm//vega-embed@6?noext\",\n",
       "    };\n",
       "\n",
       "    function loadScript(lib) {\n",
       "      return new Promise(function(resolve, reject) {\n",
       "        var s = document.createElement('script');\n",
       "        s.src = paths[lib];\n",
       "        s.async = true;\n",
       "        s.onload = () => resolve(paths[lib]);\n",
       "        s.onerror = () => reject(`Error loading script: ${paths[lib]}`);\n",
       "        document.getElementsByTagName(\"head\")[0].appendChild(s);\n",
       "      });\n",
       "    }\n",
       "\n",
       "    function showError(err) {\n",
       "      outputDiv.innerHTML = `<div class=\"error\" style=\"color:red;\">${err}</div>`;\n",
       "      throw err;\n",
       "    }\n",
       "\n",
       "    function displayChart(vegaEmbed) {\n",
       "      vegaEmbed(outputDiv, spec, embedOpt)\n",
       "        .catch(err => showError(`Javascript Error: ${err.message}<br>This usually means there's a typo in your chart specification. See the javascript console for the full traceback.`));\n",
       "    }\n",
       "\n",
       "    if(typeof define === \"function\" && define.amd) {\n",
       "      requirejs.config({paths});\n",
       "      require([\"vega-embed\"], displayChart, err => showError(`Error loading script: ${err.message}`));\n",
       "    } else if (typeof vegaEmbed === \"function\") {\n",
       "      displayChart(vegaEmbed);\n",
       "    } else {\n",
       "      loadScript(\"vega\")\n",
       "        .then(() => loadScript(\"vega-lite\"))\n",
       "        .then(() => loadScript(\"vega-embed\"))\n",
       "        .catch(showError)\n",
       "        .then(() => displayChart(vegaEmbed));\n",
       "    }\n",
       "  })({\"config\": {\"view\": {\"continuousWidth\": 400, \"continuousHeight\": 300}}, \"data\": {\"name\": \"data-26a1f9d2c5768efe581c1855b85af877\"}, \"mark\": \"rect\", \"encoding\": {\"color\": {\"type\": \"quantitative\", \"field\": \"value\"}, \"tooltip\": [{\"type\": \"quantitative\", \"field\": \"raw_count\"}], \"x\": {\"type\": \"ordinal\", \"field\": \"predicted\"}, \"y\": {\"type\": \"ordinal\", \"field\": \"actual\"}}, \"height\": 215, \"width\": 215, \"$schema\": \"https://vega.github.io/schema/vega-lite/v4.8.1.json\", \"datasets\": {\"data-26a1f9d2c5768efe581c1855b85af877\": [{\"actual\": 0.0, \"predicted\": 0.0, \"raw_count\": 18, \"value\": 0.8571428571428571}, {\"actual\": 0.0, \"predicted\": 1.0, \"raw_count\": 3, \"value\": 0.14285714285714285}, {\"actual\": 1.0, \"predicted\": 0.0, \"raw_count\": 1, \"value\": 0.125}, {\"actual\": 1.0, \"predicted\": 1.0, \"raw_count\": 7, \"value\": 0.875}]}}, {\"mode\": \"vega-lite\"});\n",
       "</script>"
      ],
      "text/plain": [
       "alt.Chart(...)"
      ]
     },
     "execution_count": 29,
     "metadata": {},
     "output_type": "execute_result"
    }
   ],
   "source": [
    "from mlworkflows import plot\n",
    "\n",
    "df, chart = plot.binary_confusion_matrix(y_test, predictions)\n",
    "chart"
   ]
  },
  {
   "cell_type": "markdown",
   "metadata": {},
   "source": [
    "We want to save the model so that we can use it outside of this notebook."
   ]
  },
  {
   "cell_type": "code",
   "execution_count": null,
   "metadata": {},
   "outputs": [],
   "source": [
    "model"
   ]
  },
  {
   "cell_type": "code",
   "execution_count": null,
   "metadata": {},
   "outputs": [],
   "source": [
    "from mlworkflows import util\n",
    "util.serialize_to(model, \"model.sav\")"
   ]
  }
 ],
 "metadata": {
  "kernelspec": {
   "display_name": "Python 3",
   "language": "python",
   "name": "python3"
  },
  "language_info": {
   "codemirror_mode": {
    "name": "ipython",
    "version": 3
   },
   "file_extension": ".py",
   "mimetype": "text/x-python",
   "name": "python",
   "nbconvert_exporter": "python",
   "pygments_lexer": "ipython3",
   "version": "3.8.3"
  }
 },
 "nbformat": 4,
 "nbformat_minor": 4
}
