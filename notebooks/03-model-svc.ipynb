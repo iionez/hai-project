{
 "cells": [
  {
   "cell_type": "markdown",
   "metadata": {},
   "source": [
    "## Support Vector Classifier\n",
    "Support vector machines are useful models for highly dimensional data, that is, data with a lot of columns."
   ]
  },
  {
   "cell_type": "code",
   "execution_count": 1,
   "metadata": {},
   "outputs": [],
   "source": [
    "import pandas as pd\n",
    "import sklearn\n",
    "\n",
    "pt_info_clean = pd.read_csv(\"../data/interim/pt_info_clean.csv\")"
   ]
  },
  {
   "cell_type": "markdown",
   "metadata": {},
   "source": [
    "We begin by splitting the data into 2 sets:\n",
    "\n",
    "- `train`: a set of feature vectors which will be used to train the model\n",
    "\n",
    "- `test`:  a set of feature vectors which will be used to evaluate the model we trained"
   ]
  },
  {
   "cell_type": "code",
   "execution_count": 2,
   "metadata": {},
   "outputs": [
    {
     "name": "stdout",
     "output_type": "stream",
     "text": [
      "     Unnamed: 0  mrsa_positive   MITRAL REGURGITATION  ABDOMINAL PAIN  \\\n",
      "100         100            1.0                      0               0   \n",
      "133         133            0.0                      0               0   \n",
      "75           75            1.0                      0               0   \n",
      "101         101            1.0                      0               0   \n",
      "132         132            0.0                      0               0   \n",
      "..          ...            ...                    ...             ...   \n",
      "77           77            1.0                      0               0   \n",
      "20           20            0.0                      0               0   \n",
      "103         103            1.0                      0               0   \n",
      "67           67            0.0                      0               0   \n",
      "15           15            0.0                      0               0   \n",
      "\n",
      "     ABSCESS  ACUTE CHOLANGITIS  ACUTE CHOLECYSTITIS  \\\n",
      "100        0                  0                    0   \n",
      "133        0                  0                    0   \n",
      "75         0                  0                    0   \n",
      "101        0                  0                    0   \n",
      "132        0                  0                    0   \n",
      "..       ...                ...                  ...   \n",
      "77         0                  0                    0   \n",
      "20         0                  0                    0   \n",
      "103        0                  0                    0   \n",
      "67         0                  0                    0   \n",
      "15         0                  0                    0   \n",
      "\n",
      "     ACUTE PULMONARY EMBOLISM  ACUTE RENAL FAILURE  \\\n",
      "100                         0                    0   \n",
      "133                         1                    0   \n",
      "75                          0                    0   \n",
      "101                         0                    0   \n",
      "132                         0                    0   \n",
      "..                        ...                  ...   \n",
      "77                          0                    0   \n",
      "20                          0                    0   \n",
      "103                         0                    0   \n",
      "67                          0                    0   \n",
      "15                          0                    0   \n",
      "\n",
      "     ACUTE RESPIRATORY DISTRESS SYNDROME  ...  \\\n",
      "100                                    0  ...   \n",
      "133                                    0  ...   \n",
      "75                                     0  ...   \n",
      "101                                    0  ...   \n",
      "132                                    0  ...   \n",
      "..                                   ...  ...   \n",
      "77                                     0  ...   \n",
      "20                                     0  ...   \n",
      "103                                    0  ...   \n",
      "67                                     0  ...   \n",
      "15                                     0  ...   \n",
      "\n",
      "     ethnicity_UNKNOWN/NOT SPECIFIED  ethnicity_WHITE  \\\n",
      "100                                0                0   \n",
      "133                                0                1   \n",
      "75                                 0                1   \n",
      "101                                0                0   \n",
      "132                                0                0   \n",
      "..                               ...              ...   \n",
      "77                                 0                0   \n",
      "20                                 0                1   \n",
      "103                                0                0   \n",
      "67                                 0                1   \n",
      "15                                 0                1   \n",
      "\n",
      "     admission_type_ELECTIVE  admission_type_EMERGENCY  admission_type_URGENT  \\\n",
      "100                        0                         1                      0   \n",
      "133                        0                         1                      0   \n",
      "75                         0                         1                      0   \n",
      "101                        0                         1                      0   \n",
      "132                        0                         1                      0   \n",
      "..                       ...                       ...                    ...   \n",
      "77                         0                         1                      0   \n",
      "20                         0                         1                      0   \n",
      "103                        0                         1                      0   \n",
      "67                         0                         1                      0   \n",
      "15                         0                         1                      0   \n",
      "\n",
      "     admission_location_CLINIC REFERRAL/PREMATURE  \\\n",
      "100                                             0   \n",
      "133                                             0   \n",
      "75                                              0   \n",
      "101                                             0   \n",
      "132                                             1   \n",
      "..                                            ...   \n",
      "77                                              0   \n",
      "20                                              0   \n",
      "103                                             1   \n",
      "67                                              0   \n",
      "15                                              0   \n",
      "\n",
      "     admission_location_EMERGENCY ROOM ADMIT  \\\n",
      "100                                        0   \n",
      "133                                        1   \n",
      "75                                         0   \n",
      "101                                        0   \n",
      "132                                        0   \n",
      "..                                       ...   \n",
      "77                                         1   \n",
      "20                                         0   \n",
      "103                                        0   \n",
      "67                                         0   \n",
      "15                                         1   \n",
      "\n",
      "     admission_location_PHYS REFERRAL/NORMAL DELI  \\\n",
      "100                                             0   \n",
      "133                                             0   \n",
      "75                                              0   \n",
      "101                                             0   \n",
      "132                                             0   \n",
      "..                                            ...   \n",
      "77                                              0   \n",
      "20                                              0   \n",
      "103                                             0   \n",
      "67                                              0   \n",
      "15                                              0   \n",
      "\n",
      "     admission_location_TRANSFER FROM HOSP/EXTRAM  \\\n",
      "100                                             0   \n",
      "133                                             0   \n",
      "75                                              1   \n",
      "101                                             0   \n",
      "132                                             0   \n",
      "..                                            ...   \n",
      "77                                              0   \n",
      "20                                              1   \n",
      "103                                             0   \n",
      "67                                              1   \n",
      "15                                              0   \n",
      "\n",
      "     admission_location_TRANSFER FROM SKILLED NUR  \n",
      "100                                             1  \n",
      "133                                             0  \n",
      "75                                              0  \n",
      "101                                             1  \n",
      "132                                             0  \n",
      "..                                            ...  \n",
      "77                                              0  \n",
      "20                                              0  \n",
      "103                                             0  \n",
      "67                                              0  \n",
      "15                                              0  \n",
      "\n",
      "[115 rows x 125 columns]\n"
     ]
    }
   ],
   "source": [
    "from sklearn import model_selection\n",
    "x_train, x_test, y_train, y_test = model_selection.train_test_split(pt_info_clean, \\\n",
    "                                                                    pt_info_clean['mrsa_positive'], \\\n",
    "                                                                    test_size=0.2, \\\n",
    "                                                                    random_state=430)\n",
    "print(x_train)"
   ]
  },
  {
   "cell_type": "code",
   "execution_count": 3,
   "metadata": {},
   "outputs": [
    {
     "data": {
      "text/plain": [
       "SVC()"
      ]
     },
     "execution_count": 3,
     "metadata": {},
     "output_type": "execute_result"
    }
   ],
   "source": [
    "from sklearn.svm import SVC\n",
    "\n",
    "model = sklearn.svm.SVC()\n",
    "model.fit(x_train, y_train)"
   ]
  },
  {
   "cell_type": "code",
   "execution_count": 4,
   "metadata": {},
   "outputs": [],
   "source": [
    "predictions = model.predict(x_test)"
   ]
  },
  {
   "cell_type": "code",
   "execution_count": 5,
   "metadata": {},
   "outputs": [
    {
     "name": "stdout",
     "output_type": "stream",
     "text": [
      "[[19  1]\n",
      " [ 3  6]]\n"
     ]
    },
    {
     "data": {
      "image/png": "[encoded data removed]",
      "text/plain": [
       "<Figure size 432x288 with 2 Axes>"
      ]
     },
     "metadata": {
      "needs_background": "light"
     },
     "output_type": "display_data"
    }
   ],
   "source": [
    "from matplotlib import pyplot as plt\n",
    "from sklearn.metrics import plot_confusion_matrix\n",
    "\n",
    "class_names = ['MRSA -', 'MRSA +']\n",
    "                  \n",
    "disp = plot_confusion_matrix(model, x_test, y_test,\n",
    "                                 display_labels=class_names,\n",
    "                                 cmap=plt.cm.Blues)\n",
    "\n",
    "print(disp.confusion_matrix)"
   ]
  },
  {
   "cell_type": "code",
   "execution_count": 6,
   "metadata": {},
   "outputs": [
    {
     "data": {
      "text/plain": [
       "<Figure size 432x288 with 0 Axes>"
      ]
     },
     "metadata": {},
     "output_type": "display_data"
    }
   ],
   "source": [
    "from matplotlib import pyplot as plt\n",
    "plt.savefig('../reports/figures/svc_confusion_matrix.png')"
   ]
  },
  {
   "cell_type": "markdown",
   "metadata": {},
   "source": [
    "We want to save the model so that we can use it outside of this notebook."
   ]
  },
  {
   "cell_type": "code",
   "execution_count": 7,
   "metadata": {},
   "outputs": [
    {
     "data": {
      "text/plain": [
       "SVC()"
      ]
     },
     "execution_count": 7,
     "metadata": {},
     "output_type": "execute_result"
    }
   ],
   "source": [
    "model"
   ]
  },
  {
   "cell_type": "code",
   "execution_count": 8,
   "metadata": {},
   "outputs": [],
   "source": [
    "from mlworkflows import util\n",
    "util.serialize_to(model, \"../models/svc_model.sav\")"
   ]
  },
  {
   "cell_type": "code",
   "execution_count": null,
   "metadata": {},
   "outputs": [],
   "source": []
  }
 ],
 "metadata": {
  "kernelspec": {
   "display_name": "Python 3",
   "language": "python",
   "name": "python3"
  },
  "language_info": {
   "codemirror_mode": {
    "name": "ipython",
    "version": 3
   },
   "file_extension": ".py",
   "mimetype": "text/x-python",
   "name": "python",
   "nbconvert_exporter": "python",
   "pygments_lexer": "ipython3",
   "version": "3.6.5"
  }
 },
 "nbformat": 4,
 "nbformat_minor": 4
}
