{
 "cells": [
  {
   "cell_type": "code",
   "execution_count": null,
   "metadata": {},
   "outputs": [],
   "source": [
    "import pandas as pd\n",
    "import sklearn\n",
    "\n",
    "pt_info_clean = pd.read_csv(\"../data/interim/pt_info_clean.csv\")"
   ]
  },
  {
   "cell_type": "markdown",
   "metadata": {},
   "source": [
    "We begin by splitting the data into 2 sets:\n",
    "\n",
    "- `train`: a set of feature vectors which will be used to train the model\n",
    "\n",
    "- `test`:  a set of feature vectors which will be used to evaluate the model we trained"
   ]
  },
  {
   "cell_type": "code",
   "execution_count": 2,
   "metadata": {},
   "outputs": [
    {
     "name": "stdout",
     "output_type": "stream",
     "text": [
      "     Unnamed: 0  mrsa_positive   MITRAL REGURGITATION  ABDOMINAL PAIN  \\\n",
      "100         100            1.0                      0               0   \n",
      "133         133            0.0                      0               0   \n",
      "75           75            1.0                      0               0   \n",
      "101         101            1.0                      0               0   \n",
      "132         132            0.0                      0               0   \n",
      "..          ...            ...                    ...             ...   \n",
      "77           77            1.0                      0               0   \n",
      "20           20            0.0                      0               0   \n",
      "103         103            1.0                      0               0   \n",
      "67           67            0.0                      0               0   \n",
      "15           15            0.0                      0               0   \n",
      "\n",
      "     ABSCESS  ACUTE CHOLANGITIS  ACUTE CHOLECYSTITIS  \\\n",
      "100        0                  0                    0   \n",
      "133        0                  0                    0   \n",
      "75         0                  0                    0   \n",
      "101        0                  0                    0   \n",
      "132        0                  0                    0   \n",
      "..       ...                ...                  ...   \n",
      "77         0                  0                    0   \n",
      "20         0                  0                    0   \n",
      "103        0                  0                    0   \n",
      "67         0                  0                    0   \n",
      "15         0                  0                    0   \n",
      "\n",
      "     ACUTE PULMONARY EMBOLISM  ACUTE RENAL FAILURE  \\\n",
      "100                         0                    0   \n",
      "133                         1                    0   \n",
      "75                          0                    0   \n",
      "101                         0                    0   \n",
      "132                         0                    0   \n",
      "..                        ...                  ...   \n",
      "77                          0                    0   \n",
      "20                          0                    0   \n",
      "103                         0                    0   \n",
      "67                          0                    0   \n",
      "15                          0                    0   \n",
      "\n",
      "     ACUTE RESPIRATORY DISTRESS SYNDROME  ...  \\\n",
      "100                                    0  ...   \n",
      "133                                    0  ...   \n",
      "75                                     0  ...   \n",
      "101                                    0  ...   \n",
      "132                                    0  ...   \n",
      "..                                   ...  ...   \n",
      "77                                     0  ...   \n",
      "20                                     0  ...   \n",
      "103                                    0  ...   \n",
      "67                                     0  ...   \n",
      "15                                     0  ...   \n",
      "\n",
      "     ethnicity_UNKNOWN/NOT SPECIFIED  ethnicity_WHITE  \\\n",
      "100                                0                0   \n",
      "133                                0                1   \n",
      "75                                 0                1   \n",
      "101                                0                0   \n",
      "132                                0                0   \n",
      "..                               ...              ...   \n",
      "77                                 0                0   \n",
      "20                                 0                1   \n",
      "103                                0                0   \n",
      "67                                 0                1   \n",
      "15                                 0                1   \n",
      "\n",
      "     admission_type_ELECTIVE  admission_type_EMERGENCY  admission_type_URGENT  \\\n",
      "100                        0                         1                      0   \n",
      "133                        0                         1                      0   \n",
      "75                         0                         1                      0   \n",
      "101                        0                         1                      0   \n",
      "132                        0                         1                      0   \n",
      "..                       ...                       ...                    ...   \n",
      "77                         0                         1                      0   \n",
      "20                         0                         1                      0   \n",
      "103                        0                         1                      0   \n",
      "67                         0                         1                      0   \n",
      "15                         0                         1                      0   \n",
      "\n",
      "     admission_location_CLINIC REFERRAL/PREMATURE  \\\n",
      "100                                             0   \n",
      "133                                             0   \n",
      "75                                              0   \n",
      "101                                             0   \n",
      "132                                             1   \n",
      "..                                            ...   \n",
      "77                                              0   \n",
      "20                                              0   \n",
      "103                                             1   \n",
      "67                                              0   \n",
      "15                                              0   \n",
      "\n",
      "     admission_location_EMERGENCY ROOM ADMIT  \\\n",
      "100                                        0   \n",
      "133                                        1   \n",
      "75                                         0   \n",
      "101                                        0   \n",
      "132                                        0   \n",
      "..                                       ...   \n",
      "77                                         1   \n",
      "20                                         0   \n",
      "103                                        0   \n",
      "67                                         0   \n",
      "15                                         1   \n",
      "\n",
      "     admission_location_PHYS REFERRAL/NORMAL DELI  \\\n",
      "100                                             0   \n",
      "133                                             0   \n",
      "75                                              0   \n",
      "101                                             0   \n",
      "132                                             0   \n",
      "..                                            ...   \n",
      "77                                              0   \n",
      "20                                              0   \n",
      "103                                             0   \n",
      "67                                              0   \n",
      "15                                              0   \n",
      "\n",
      "     admission_location_TRANSFER FROM HOSP/EXTRAM  \\\n",
      "100                                             0   \n",
      "133                                             0   \n",
      "75                                              1   \n",
      "101                                             0   \n",
      "132                                             0   \n",
      "..                                            ...   \n",
      "77                                              0   \n",
      "20                                              1   \n",
      "103                                             0   \n",
      "67                                              1   \n",
      "15                                              0   \n",
      "\n",
      "     admission_location_TRANSFER FROM SKILLED NUR  \n",
      "100                                             1  \n",
      "133                                             0  \n",
      "75                                              0  \n",
      "101                                             1  \n",
      "132                                             0  \n",
      "..                                            ...  \n",
      "77                                              0  \n",
      "20                                              0  \n",
      "103                                             0  \n",
      "67                                              0  \n",
      "15                                              0  \n",
      "\n",
      "[115 rows x 125 columns]\n"
     ]
    }
   ],
   "source": [
    "from sklearn import model_selection\n",
    "x_train, x_test, y_train, y_test = model_selection.train_test_split(pt_info_clean, \\\n",
    "                                                                    pt_info_clean['mrsa_positive'], \\\n",
    "                                                                    test_size=0.2, \\\n",
    "                                                                    random_state=430)\n",
    "print(x_train)"
   ]
  },
  {
   "cell_type": "code",
   "execution_count": 3,
   "metadata": {},
   "outputs": [
    {
     "data": {
      "text/plain": [
       "SVC()"
      ]
     },
     "execution_count": 3,
     "metadata": {},
     "output_type": "execute_result"
    }
   ],
   "source": [
    "from sklearn.svm import SVC\n",
    "\n",
    "model = sklearn.svm.SVC()\n",
    "model.fit(x_train, y_train)"
   ]
  },
  {
   "cell_type": "code",
   "execution_count": 4,
   "metadata": {},
   "outputs": [],
   "source": [
    "predictions = model.predict(x_test)"
   ]
  },
  {
   "cell_type": "code",
   "execution_count": 5,
   "metadata": {},
   "outputs": [
    {
     "data": {
      "text/html": [
       "\n",
       "<div id=\"altair-viz-536ea0986c404bd782ff13ec8afdd105\"></div>\n",
       "<script type=\"text/javascript\">\n",
       "  (function(spec, embedOpt){\n",
       "    let outputDiv = document.currentScript.previousElementSibling;\n",
       "    if (outputDiv.id !== \"altair-viz-536ea0986c404bd782ff13ec8afdd105\") {\n",
       "      outputDiv = document.getElementById(\"altair-viz-536ea0986c404bd782ff13ec8afdd105\");\n",
       "    }\n",
       "    const paths = {\n",
       "      \"vega\": \"https://cdn.jsdelivr.net/npm//vega@5?noext\",\n",
       "      \"vega-lib\": \"https://cdn.jsdelivr.net/npm//vega-lib?noext\",\n",
       "      \"vega-lite\": \"https://cdn.jsdelivr.net/npm//vega-lite@4.8.1?noext\",\n",
       "      \"vega-embed\": \"https://cdn.jsdelivr.net/npm//vega-embed@6?noext\",\n",
       "    };\n",
       "\n",
       "    function loadScript(lib) {\n",
       "      return new Promise(function(resolve, reject) {\n",
       "        var s = document.createElement('script');\n",
       "        s.src = paths[lib];\n",
       "        s.async = true;\n",
       "        s.onload = () => resolve(paths[lib]);\n",
       "        s.onerror = () => reject(`Error loading script: ${paths[lib]}`);\n",
       "        document.getElementsByTagName(\"head\")[0].appendChild(s);\n",
       "      });\n",
       "    }\n",
       "\n",
       "    function showError(err) {\n",
       "      outputDiv.innerHTML = `<div class=\"error\" style=\"color:red;\">${err}</div>`;\n",
       "      throw err;\n",
       "    }\n",
       "\n",
       "    function displayChart(vegaEmbed) {\n",
       "      vegaEmbed(outputDiv, spec, embedOpt)\n",
       "        .catch(err => showError(`Javascript Error: ${err.message}<br>This usually means there's a typo in your chart specification. See the javascript console for the full traceback.`));\n",
       "    }\n",
       "\n",
       "    if(typeof define === \"function\" && define.amd) {\n",
       "      requirejs.config({paths});\n",
       "      require([\"vega-embed\"], displayChart, err => showError(`Error loading script: ${err.message}`));\n",
       "    } else if (typeof vegaEmbed === \"function\") {\n",
       "      displayChart(vegaEmbed);\n",
       "    } else {\n",
       "      loadScript(\"vega\")\n",
       "        .then(() => loadScript(\"vega-lite\"))\n",
       "        .then(() => loadScript(\"vega-embed\"))\n",
       "        .catch(showError)\n",
       "        .then(() => displayChart(vegaEmbed));\n",
       "    }\n",
       "  })({\"config\": {\"view\": {\"continuousWidth\": 400, \"continuousHeight\": 300}}, \"data\": {\"name\": \"data-e02826d5606eda20de9db492d37d3728\"}, \"mark\": \"rect\", \"encoding\": {\"color\": {\"type\": \"quantitative\", \"field\": \"value\"}, \"tooltip\": [{\"type\": \"quantitative\", \"field\": \"raw_count\"}], \"x\": {\"type\": \"ordinal\", \"field\": \"predicted\"}, \"y\": {\"type\": \"ordinal\", \"field\": \"actual\"}}, \"height\": 215, \"width\": 215, \"$schema\": \"https://vega.github.io/schema/vega-lite/v4.8.1.json\", \"datasets\": {\"data-e02826d5606eda20de9db492d37d3728\": [{\"actual\": 0.0, \"predicted\": 0.0, \"raw_count\": 19, \"value\": 0.95}, {\"actual\": 0.0, \"predicted\": 1.0, \"raw_count\": 1, \"value\": 0.05}, {\"actual\": 1.0, \"predicted\": 0.0, \"raw_count\": 3, \"value\": 0.3333333333333333}, {\"actual\": 1.0, \"predicted\": 1.0, \"raw_count\": 6, \"value\": 0.6666666666666666}]}}, {\"mode\": \"vega-lite\"});\n",
       "</script>"
      ],
      "text/plain": [
       "alt.Chart(...)"
      ]
     },
     "execution_count": 5,
     "metadata": {},
     "output_type": "execute_result"
    }
   ],
   "source": [
    "from mlworkflows import plot\n",
    "\n",
    "df, chart = plot.binary_confusion_matrix(y_test, predictions)\n",
    "chart"
   ]
  },
  {
   "cell_type": "code",
   "execution_count": null,
   "metadata": {},
   "outputs": [],
   "source": [
    "from matplotlib import pyplot as plt\n",
    "plt.savefig('../reports/figures/svc_confusion_matrix.png')"
   ]
  },
  {
   "cell_type": "markdown",
   "metadata": {},
   "source": [
    "We want to save the model so that we can use it outside of this notebook."
   ]
  },
  {
   "cell_type": "code",
   "execution_count": 6,
   "metadata": {},
   "outputs": [
    {
     "data": {
      "text/plain": [
       "SVC()"
      ]
     },
     "execution_count": 6,
     "metadata": {},
     "output_type": "execute_result"
    }
   ],
   "source": [
    "model"
   ]
  },
  {
   "cell_type": "code",
   "execution_count": 7,
   "metadata": {},
   "outputs": [],
   "source": [
    "from mlworkflows import util\n",
    "util.serialize_to(model, \"../models/svc_model.sav\")"
   ]
  },
  {
   "cell_type": "code",
   "execution_count": null,
   "metadata": {},
   "outputs": [],
   "source": []
  }
 ],
 "metadata": {
  "kernelspec": {
   "display_name": "Python 3",
   "language": "python",
   "name": "python3"
  },
  "language_info": {
   "codemirror_mode": {
    "name": "ipython",
    "version": 3
   },
   "file_extension": ".py",
   "mimetype": "text/x-python",
   "name": "python",
   "nbconvert_exporter": "python",
   "pygments_lexer": "ipython3",
   "version": "3.6.5"
  }
 },
 "nbformat": 4,
 "nbformat_minor": 4
}
