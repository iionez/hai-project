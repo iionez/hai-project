{
 "cells": [
  {
   "cell_type": "code",
   "execution_count": 1,
   "metadata": {},
   "outputs": [],
   "source": [
    "import pandas as pd\n",
    "import sklearn\n",
    "\n",
    "pt_info_clean = pd.read_csv(\"../data/processed/pt_info_clean.csv\")"
   ]
  },
  {
   "cell_type": "code",
   "execution_count": 2,
   "metadata": {},
   "outputs": [
    {
     "data": {
      "text/html": [
       "<div>\n",
       "<style scoped>\n",
       "    .dataframe tbody tr th:only-of-type {\n",
       "        vertical-align: middle;\n",
       "    }\n",
       "\n",
       "    .dataframe tbody tr th {\n",
       "        vertical-align: top;\n",
       "    }\n",
       "\n",
       "    .dataframe thead th {\n",
       "        text-align: right;\n",
       "    }\n",
       "</style>\n",
       "<table border=\"1\" class=\"dataframe\">\n",
       "  <thead>\n",
       "    <tr style=\"text-align: right;\">\n",
       "      <th></th>\n",
       "      <th>Unnamed: 0</th>\n",
       "      <th>mrsa_positive</th>\n",
       "      <th>MITRAL REGURGITATION</th>\n",
       "      <th>ABDOMINAL PAIN</th>\n",
       "      <th>ABSCESS</th>\n",
       "      <th>ACUTE CHOLANGITIS</th>\n",
       "      <th>ACUTE CHOLECYSTITIS</th>\n",
       "      <th>ACUTE PULMONARY EMBOLISM</th>\n",
       "      <th>ACUTE RENAL FAILURE</th>\n",
       "      <th>ACUTE RESPIRATORY DISTRESS SYNDROME</th>\n",
       "      <th>...</th>\n",
       "      <th>ethnicity_UNKNOWN/NOT SPECIFIED</th>\n",
       "      <th>ethnicity_WHITE</th>\n",
       "      <th>admission_type_ELECTIVE</th>\n",
       "      <th>admission_type_EMERGENCY</th>\n",
       "      <th>admission_type_URGENT</th>\n",
       "      <th>admission_location_CLINIC REFERRAL/PREMATURE</th>\n",
       "      <th>admission_location_EMERGENCY ROOM ADMIT</th>\n",
       "      <th>admission_location_PHYS REFERRAL/NORMAL DELI</th>\n",
       "      <th>admission_location_TRANSFER FROM HOSP/EXTRAM</th>\n",
       "      <th>admission_location_TRANSFER FROM SKILLED NUR</th>\n",
       "    </tr>\n",
       "  </thead>\n",
       "  <tbody>\n",
       "    <tr>\n",
       "      <th>119</th>\n",
       "      <td>119</td>\n",
       "      <td>0.0</td>\n",
       "      <td>0</td>\n",
       "      <td>0</td>\n",
       "      <td>0</td>\n",
       "      <td>0</td>\n",
       "      <td>0</td>\n",
       "      <td>0</td>\n",
       "      <td>0</td>\n",
       "      <td>0</td>\n",
       "      <td>...</td>\n",
       "      <td>0</td>\n",
       "      <td>1</td>\n",
       "      <td>0</td>\n",
       "      <td>1</td>\n",
       "      <td>0</td>\n",
       "      <td>0</td>\n",
       "      <td>1</td>\n",
       "      <td>0</td>\n",
       "      <td>0</td>\n",
       "      <td>0</td>\n",
       "    </tr>\n",
       "    <tr>\n",
       "      <th>8</th>\n",
       "      <td>8</td>\n",
       "      <td>0.0</td>\n",
       "      <td>0</td>\n",
       "      <td>0</td>\n",
       "      <td>0</td>\n",
       "      <td>0</td>\n",
       "      <td>0</td>\n",
       "      <td>0</td>\n",
       "      <td>0</td>\n",
       "      <td>0</td>\n",
       "      <td>...</td>\n",
       "      <td>0</td>\n",
       "      <td>1</td>\n",
       "      <td>0</td>\n",
       "      <td>1</td>\n",
       "      <td>0</td>\n",
       "      <td>0</td>\n",
       "      <td>1</td>\n",
       "      <td>0</td>\n",
       "      <td>0</td>\n",
       "      <td>0</td>\n",
       "    </tr>\n",
       "    <tr>\n",
       "      <th>124</th>\n",
       "      <td>124</td>\n",
       "      <td>0.0</td>\n",
       "      <td>0</td>\n",
       "      <td>0</td>\n",
       "      <td>0</td>\n",
       "      <td>0</td>\n",
       "      <td>0</td>\n",
       "      <td>0</td>\n",
       "      <td>0</td>\n",
       "      <td>0</td>\n",
       "      <td>...</td>\n",
       "      <td>0</td>\n",
       "      <td>1</td>\n",
       "      <td>0</td>\n",
       "      <td>1</td>\n",
       "      <td>0</td>\n",
       "      <td>0</td>\n",
       "      <td>1</td>\n",
       "      <td>0</td>\n",
       "      <td>0</td>\n",
       "      <td>0</td>\n",
       "    </tr>\n",
       "    <tr>\n",
       "      <th>47</th>\n",
       "      <td>47</td>\n",
       "      <td>0.0</td>\n",
       "      <td>0</td>\n",
       "      <td>0</td>\n",
       "      <td>0</td>\n",
       "      <td>0</td>\n",
       "      <td>0</td>\n",
       "      <td>0</td>\n",
       "      <td>0</td>\n",
       "      <td>0</td>\n",
       "      <td>...</td>\n",
       "      <td>1</td>\n",
       "      <td>0</td>\n",
       "      <td>0</td>\n",
       "      <td>1</td>\n",
       "      <td>0</td>\n",
       "      <td>0</td>\n",
       "      <td>1</td>\n",
       "      <td>0</td>\n",
       "      <td>0</td>\n",
       "      <td>0</td>\n",
       "    </tr>\n",
       "    <tr>\n",
       "      <th>73</th>\n",
       "      <td>73</td>\n",
       "      <td>1.0</td>\n",
       "      <td>0</td>\n",
       "      <td>0</td>\n",
       "      <td>0</td>\n",
       "      <td>0</td>\n",
       "      <td>0</td>\n",
       "      <td>0</td>\n",
       "      <td>0</td>\n",
       "      <td>0</td>\n",
       "      <td>...</td>\n",
       "      <td>0</td>\n",
       "      <td>1</td>\n",
       "      <td>0</td>\n",
       "      <td>1</td>\n",
       "      <td>0</td>\n",
       "      <td>0</td>\n",
       "      <td>1</td>\n",
       "      <td>0</td>\n",
       "      <td>0</td>\n",
       "      <td>0</td>\n",
       "    </tr>\n",
       "  </tbody>\n",
       "</table>\n",
       "<p>5 rows × 125 columns</p>\n",
       "</div>"
      ],
      "text/plain": [
       "     Unnamed: 0  mrsa_positive   MITRAL REGURGITATION  ABDOMINAL PAIN  \\\n",
       "119         119            0.0                      0               0   \n",
       "8             8            0.0                      0               0   \n",
       "124         124            0.0                      0               0   \n",
       "47           47            0.0                      0               0   \n",
       "73           73            1.0                      0               0   \n",
       "\n",
       "     ABSCESS  ACUTE CHOLANGITIS  ACUTE CHOLECYSTITIS  \\\n",
       "119        0                  0                    0   \n",
       "8          0                  0                    0   \n",
       "124        0                  0                    0   \n",
       "47         0                  0                    0   \n",
       "73         0                  0                    0   \n",
       "\n",
       "     ACUTE PULMONARY EMBOLISM  ACUTE RENAL FAILURE  \\\n",
       "119                         0                    0   \n",
       "8                           0                    0   \n",
       "124                         0                    0   \n",
       "47                          0                    0   \n",
       "73                          0                    0   \n",
       "\n",
       "     ACUTE RESPIRATORY DISTRESS SYNDROME  ...  \\\n",
       "119                                    0  ...   \n",
       "8                                      0  ...   \n",
       "124                                    0  ...   \n",
       "47                                     0  ...   \n",
       "73                                     0  ...   \n",
       "\n",
       "     ethnicity_UNKNOWN/NOT SPECIFIED  ethnicity_WHITE  \\\n",
       "119                                0                1   \n",
       "8                                  0                1   \n",
       "124                                0                1   \n",
       "47                                 1                0   \n",
       "73                                 0                1   \n",
       "\n",
       "     admission_type_ELECTIVE  admission_type_EMERGENCY  admission_type_URGENT  \\\n",
       "119                        0                         1                      0   \n",
       "8                          0                         1                      0   \n",
       "124                        0                         1                      0   \n",
       "47                         0                         1                      0   \n",
       "73                         0                         1                      0   \n",
       "\n",
       "     admission_location_CLINIC REFERRAL/PREMATURE  \\\n",
       "119                                             0   \n",
       "8                                               0   \n",
       "124                                             0   \n",
       "47                                              0   \n",
       "73                                              0   \n",
       "\n",
       "     admission_location_EMERGENCY ROOM ADMIT  \\\n",
       "119                                        1   \n",
       "8                                          1   \n",
       "124                                        1   \n",
       "47                                         1   \n",
       "73                                         1   \n",
       "\n",
       "     admission_location_PHYS REFERRAL/NORMAL DELI  \\\n",
       "119                                             0   \n",
       "8                                               0   \n",
       "124                                             0   \n",
       "47                                              0   \n",
       "73                                              0   \n",
       "\n",
       "     admission_location_TRANSFER FROM HOSP/EXTRAM  \\\n",
       "119                                             0   \n",
       "8                                               0   \n",
       "124                                             0   \n",
       "47                                              0   \n",
       "73                                              0   \n",
       "\n",
       "     admission_location_TRANSFER FROM SKILLED NUR  \n",
       "119                                             0  \n",
       "8                                               0  \n",
       "124                                             0  \n",
       "47                                              0  \n",
       "73                                              0  \n",
       "\n",
       "[5 rows x 125 columns]"
      ]
     },
     "execution_count": 2,
     "metadata": {},
     "output_type": "execute_result"
    }
   ],
   "source": [
    "pt_info_clean.sample(5)"
   ]
  },
  {
   "cell_type": "markdown",
   "metadata": {},
   "source": [
    "We begin by splitting the data into 2 sets:\n",
    "\n",
    "- `train`: a set of feature vectors which will be used to train the model\n",
    "\n",
    "- `test`:  a set of feature vectors which will be used to evaluate the model we trained"
   ]
  },
  {
   "cell_type": "code",
   "execution_count": 3,
   "metadata": {},
   "outputs": [],
   "source": [
    "from sklearn import model_selection\n",
    "x_train, x_test, y_train, y_test = model_selection.train_test_split(pt_info_clean, \n",
    "                                                                    pt_info_clean[\"mrsa_positive\"],  \n",
    "                                                                    test_size=0.2, \n",
    "                                                                    random_state=430)"
   ]
  },
  {
   "cell_type": "code",
   "execution_count": 4,
   "metadata": {},
   "outputs": [
    {
     "name": "stderr",
     "output_type": "stream",
     "text": [
      "/Library/Frameworks/Python.framework/Versions/3.6/lib/python3.6/site-packages/sklearn/linear_model/_logistic.py:764: ConvergenceWarning: lbfgs failed to converge (status=1):\n",
      "STOP: TOTAL NO. of ITERATIONS REACHED LIMIT.\n",
      "\n",
      "Increase the number of iterations (max_iter) or scale the data as shown in:\n",
      "    https://scikit-learn.org/stable/modules/preprocessing.html\n",
      "Please also refer to the documentation for alternative solver options:\n",
      "    https://scikit-learn.org/stable/modules/linear_model.html#logistic-regression\n",
      "  extra_warning_msg=_LOGISTIC_SOLVER_CONVERGENCE_MSG)\n"
     ]
    },
    {
     "data": {
      "text/plain": [
       "LogisticRegression(C=3.0, max_iter=10, multi_class='multinomial',\n",
       "                   random_state=430)"
      ]
     },
     "execution_count": 4,
     "metadata": {},
     "output_type": "execute_result"
    }
   ],
   "source": [
    "from sklearn.linear_model import LogisticRegression\n",
    "\n",
    "model = LogisticRegression(C=3.0, class_weight=None, dual=False, fit_intercept=True,\n",
    "                   intercept_scaling=1, l1_ratio=None, max_iter=10,\n",
    "                   multi_class='multinomial', n_jobs=None, penalty='l2',\n",
    "                   random_state=430, solver='lbfgs', tol=0.0001, verbose=0,\n",
    "                   warm_start=False)\n",
    "model.fit(x_train, y_train)"
   ]
  },
  {
   "cell_type": "code",
   "execution_count": 5,
   "metadata": {},
   "outputs": [],
   "source": [
    "predictions = model.predict(x_test)"
   ]
  },
  {
   "cell_type": "code",
   "execution_count": 6,
   "metadata": {},
   "outputs": [
    {
     "name": "stdout",
     "output_type": "stream",
     "text": [
      "[[13  7]\n",
      " [ 1  8]]\n"
     ]
    },
    {
     "data": {
      "image/png": "[encoded data removed]",
      "text/plain": [
       "<Figure size 432x288 with 2 Axes>"
      ]
     },
     "metadata": {
      "needs_background": "light"
     },
     "output_type": "display_data"
    }
   ],
   "source": [
    "from matplotlib import pyplot as plt\n",
    "from sklearn.metrics import plot_confusion_matrix\n",
    "\n",
    "class_names = ['MRSA -', 'MRSA +']\n",
    "                  \n",
    "disp = plot_confusion_matrix(model, x_test, y_test,\n",
    "                                 display_labels=class_names,\n",
    "                                 cmap=plt.cm.Blues)\n",
    "\n",
    "print(disp.confusion_matrix)"
   ]
  },
  {
   "cell_type": "code",
   "execution_count": 7,
   "metadata": {},
   "outputs": [
    {
     "data": {
      "text/plain": [
       "<Figure size 432x288 with 0 Axes>"
      ]
     },
     "metadata": {},
     "output_type": "display_data"
    }
   ],
   "source": [
    "plt.savefig('../reports/figures/logistic_confusion_matrix.png')"
   ]
  },
  {
   "cell_type": "markdown",
   "metadata": {},
   "source": [
    "We want to save the model so that we can use it outside of this notebook."
   ]
  },
  {
   "cell_type": "code",
   "execution_count": 8,
   "metadata": {},
   "outputs": [
    {
     "data": {
      "text/plain": [
       "LogisticRegression(C=3.0, max_iter=10, multi_class='multinomial',\n",
       "                   random_state=430)"
      ]
     },
     "execution_count": 8,
     "metadata": {},
     "output_type": "execute_result"
    }
   ],
   "source": [
    "model"
   ]
  },
  {
   "cell_type": "code",
   "execution_count": 9,
   "metadata": {},
   "outputs": [],
   "source": [
    "from mlworkflows import util\n",
    "util.serialize_to(model, \"../models/logistic_model.sav\")"
   ]
  }
 ],
 "metadata": {
  "kernelspec": {
   "display_name": "Python 3",
   "language": "python",
   "name": "python3"
  },
  "language_info": {
   "codemirror_mode": {
    "name": "ipython",
    "version": 3
   },
   "file_extension": ".py",
   "mimetype": "text/x-python",
   "name": "python",
   "nbconvert_exporter": "python",
   "pygments_lexer": "ipython3",
   "version": "3.6.5"
  }
 },
 "nbformat": 4,
 "nbformat_minor": 4
}
