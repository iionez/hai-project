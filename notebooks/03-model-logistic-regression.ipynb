{
 "cells": [
  {
   "cell_type": "code",
   "execution_count": 3,
   "metadata": {},
   "outputs": [],
   "source": [
    "import pandas as pd\n",
    "import sklearn\n",
    "\n",
    "pt_info_clean = pd.read_csv(\"../data/interim/pt_info_clean.csv\")"
   ]
  },
  {
   "cell_type": "code",
   "execution_count": 4,
   "metadata": {},
   "outputs": [
    {
     "data": {
      "text/html": [
       "<div>\n",
       "<style scoped>\n",
       "    .dataframe tbody tr th:only-of-type {\n",
       "        vertical-align: middle;\n",
       "    }\n",
       "\n",
       "    .dataframe tbody tr th {\n",
       "        vertical-align: top;\n",
       "    }\n",
       "\n",
       "    .dataframe thead th {\n",
       "        text-align: right;\n",
       "    }\n",
       "</style>\n",
       "<table border=\"1\" class=\"dataframe\">\n",
       "  <thead>\n",
       "    <tr style=\"text-align: right;\">\n",
       "      <th></th>\n",
       "      <th>Unnamed: 0</th>\n",
       "      <th>mrsa_positive</th>\n",
       "      <th>MITRAL REGURGITATION</th>\n",
       "      <th>ABDOMINAL PAIN</th>\n",
       "      <th>ABSCESS</th>\n",
       "      <th>ACUTE CHOLANGITIS</th>\n",
       "      <th>ACUTE CHOLECYSTITIS</th>\n",
       "      <th>ACUTE PULMONARY EMBOLISM</th>\n",
       "      <th>ACUTE RENAL FAILURE</th>\n",
       "      <th>ACUTE RESPIRATORY DISTRESS SYNDROME</th>\n",
       "      <th>...</th>\n",
       "      <th>ethnicity_UNKNOWN/NOT SPECIFIED</th>\n",
       "      <th>ethnicity_WHITE</th>\n",
       "      <th>admission_type_ELECTIVE</th>\n",
       "      <th>admission_type_EMERGENCY</th>\n",
       "      <th>admission_type_URGENT</th>\n",
       "      <th>admission_location_CLINIC REFERRAL/PREMATURE</th>\n",
       "      <th>admission_location_EMERGENCY ROOM ADMIT</th>\n",
       "      <th>admission_location_PHYS REFERRAL/NORMAL DELI</th>\n",
       "      <th>admission_location_TRANSFER FROM HOSP/EXTRAM</th>\n",
       "      <th>admission_location_TRANSFER FROM SKILLED NUR</th>\n",
       "    </tr>\n",
       "  </thead>\n",
       "  <tbody>\n",
       "    <tr>\n",
       "      <th>137</th>\n",
       "      <td>137</td>\n",
       "      <td>0.0</td>\n",
       "      <td>0</td>\n",
       "      <td>0</td>\n",
       "      <td>0</td>\n",
       "      <td>0</td>\n",
       "      <td>0</td>\n",
       "      <td>0</td>\n",
       "      <td>0</td>\n",
       "      <td>0</td>\n",
       "      <td>...</td>\n",
       "      <td>0</td>\n",
       "      <td>1</td>\n",
       "      <td>1</td>\n",
       "      <td>0</td>\n",
       "      <td>0</td>\n",
       "      <td>0</td>\n",
       "      <td>0</td>\n",
       "      <td>1</td>\n",
       "      <td>0</td>\n",
       "      <td>0</td>\n",
       "    </tr>\n",
       "    <tr>\n",
       "      <th>128</th>\n",
       "      <td>128</td>\n",
       "      <td>0.0</td>\n",
       "      <td>0</td>\n",
       "      <td>0</td>\n",
       "      <td>0</td>\n",
       "      <td>0</td>\n",
       "      <td>0</td>\n",
       "      <td>0</td>\n",
       "      <td>0</td>\n",
       "      <td>0</td>\n",
       "      <td>...</td>\n",
       "      <td>0</td>\n",
       "      <td>1</td>\n",
       "      <td>0</td>\n",
       "      <td>1</td>\n",
       "      <td>0</td>\n",
       "      <td>0</td>\n",
       "      <td>1</td>\n",
       "      <td>0</td>\n",
       "      <td>0</td>\n",
       "      <td>0</td>\n",
       "    </tr>\n",
       "    <tr>\n",
       "      <th>92</th>\n",
       "      <td>92</td>\n",
       "      <td>1.0</td>\n",
       "      <td>0</td>\n",
       "      <td>0</td>\n",
       "      <td>0</td>\n",
       "      <td>0</td>\n",
       "      <td>0</td>\n",
       "      <td>0</td>\n",
       "      <td>0</td>\n",
       "      <td>0</td>\n",
       "      <td>...</td>\n",
       "      <td>0</td>\n",
       "      <td>0</td>\n",
       "      <td>0</td>\n",
       "      <td>1</td>\n",
       "      <td>0</td>\n",
       "      <td>1</td>\n",
       "      <td>0</td>\n",
       "      <td>0</td>\n",
       "      <td>0</td>\n",
       "      <td>0</td>\n",
       "    </tr>\n",
       "    <tr>\n",
       "      <th>43</th>\n",
       "      <td>43</td>\n",
       "      <td>0.0</td>\n",
       "      <td>0</td>\n",
       "      <td>0</td>\n",
       "      <td>0</td>\n",
       "      <td>0</td>\n",
       "      <td>0</td>\n",
       "      <td>0</td>\n",
       "      <td>0</td>\n",
       "      <td>0</td>\n",
       "      <td>...</td>\n",
       "      <td>0</td>\n",
       "      <td>0</td>\n",
       "      <td>0</td>\n",
       "      <td>1</td>\n",
       "      <td>0</td>\n",
       "      <td>0</td>\n",
       "      <td>1</td>\n",
       "      <td>0</td>\n",
       "      <td>0</td>\n",
       "      <td>0</td>\n",
       "    </tr>\n",
       "    <tr>\n",
       "      <th>72</th>\n",
       "      <td>72</td>\n",
       "      <td>0.0</td>\n",
       "      <td>0</td>\n",
       "      <td>1</td>\n",
       "      <td>0</td>\n",
       "      <td>0</td>\n",
       "      <td>0</td>\n",
       "      <td>0</td>\n",
       "      <td>0</td>\n",
       "      <td>0</td>\n",
       "      <td>...</td>\n",
       "      <td>0</td>\n",
       "      <td>1</td>\n",
       "      <td>0</td>\n",
       "      <td>1</td>\n",
       "      <td>0</td>\n",
       "      <td>0</td>\n",
       "      <td>1</td>\n",
       "      <td>0</td>\n",
       "      <td>0</td>\n",
       "      <td>0</td>\n",
       "    </tr>\n",
       "  </tbody>\n",
       "</table>\n",
       "<p>5 rows × 125 columns</p>\n",
       "</div>"
      ],
      "text/plain": [
       "     Unnamed: 0  mrsa_positive   MITRAL REGURGITATION  ABDOMINAL PAIN  \\\n",
       "137         137            0.0                      0               0   \n",
       "128         128            0.0                      0               0   \n",
       "92           92            1.0                      0               0   \n",
       "43           43            0.0                      0               0   \n",
       "72           72            0.0                      0               1   \n",
       "\n",
       "     ABSCESS  ACUTE CHOLANGITIS  ACUTE CHOLECYSTITIS  \\\n",
       "137        0                  0                    0   \n",
       "128        0                  0                    0   \n",
       "92         0                  0                    0   \n",
       "43         0                  0                    0   \n",
       "72         0                  0                    0   \n",
       "\n",
       "     ACUTE PULMONARY EMBOLISM  ACUTE RENAL FAILURE  \\\n",
       "137                         0                    0   \n",
       "128                         0                    0   \n",
       "92                          0                    0   \n",
       "43                          0                    0   \n",
       "72                          0                    0   \n",
       "\n",
       "     ACUTE RESPIRATORY DISTRESS SYNDROME  ...  \\\n",
       "137                                    0  ...   \n",
       "128                                    0  ...   \n",
       "92                                     0  ...   \n",
       "43                                     0  ...   \n",
       "72                                     0  ...   \n",
       "\n",
       "     ethnicity_UNKNOWN/NOT SPECIFIED  ethnicity_WHITE  \\\n",
       "137                                0                1   \n",
       "128                                0                1   \n",
       "92                                 0                0   \n",
       "43                                 0                0   \n",
       "72                                 0                1   \n",
       "\n",
       "     admission_type_ELECTIVE  admission_type_EMERGENCY  admission_type_URGENT  \\\n",
       "137                        1                         0                      0   \n",
       "128                        0                         1                      0   \n",
       "92                         0                         1                      0   \n",
       "43                         0                         1                      0   \n",
       "72                         0                         1                      0   \n",
       "\n",
       "     admission_location_CLINIC REFERRAL/PREMATURE  \\\n",
       "137                                             0   \n",
       "128                                             0   \n",
       "92                                              1   \n",
       "43                                              0   \n",
       "72                                              0   \n",
       "\n",
       "     admission_location_EMERGENCY ROOM ADMIT  \\\n",
       "137                                        0   \n",
       "128                                        1   \n",
       "92                                         0   \n",
       "43                                         1   \n",
       "72                                         1   \n",
       "\n",
       "     admission_location_PHYS REFERRAL/NORMAL DELI  \\\n",
       "137                                             1   \n",
       "128                                             0   \n",
       "92                                              0   \n",
       "43                                              0   \n",
       "72                                              0   \n",
       "\n",
       "     admission_location_TRANSFER FROM HOSP/EXTRAM  \\\n",
       "137                                             0   \n",
       "128                                             0   \n",
       "92                                              0   \n",
       "43                                              0   \n",
       "72                                              0   \n",
       "\n",
       "     admission_location_TRANSFER FROM SKILLED NUR  \n",
       "137                                             0  \n",
       "128                                             0  \n",
       "92                                              0  \n",
       "43                                              0  \n",
       "72                                              0  \n",
       "\n",
       "[5 rows x 125 columns]"
      ]
     },
     "execution_count": 4,
     "metadata": {},
     "output_type": "execute_result"
    }
   ],
   "source": [
    "pt_info_clean.sample(5)"
   ]
  },
  {
   "cell_type": "markdown",
   "metadata": {},
   "source": [
    "We begin by splitting the data into 2 sets:\n",
    "\n",
    "- `train`: a set of feature vectors which will be used to train the model\n",
    "\n",
    "- `test`:  a set of feature vectors which will be used to evaluate the model we trained"
   ]
  },
  {
   "cell_type": "code",
   "execution_count": 20,
   "metadata": {},
   "outputs": [
    {
     "name": "stdout",
     "output_type": "stream",
     "text": [
      "[[  0.   0.   0. ...   0.   0.   0.]\n",
      " [  1.   0.   0. ...   0.   1.   0.]\n",
      " [  2.   0.   0. ...   0.   1.   0.]\n",
      " ...\n",
      " [141.   0.   0. ...   0.   1.   0.]\n",
      " [142.   1.   0. ...   0.   0.   0.]\n",
      " [143.   0.   0. ...   0.   0.   0.]]\n",
      "[[100.   1.   0. ...   0.   0.   1.]\n",
      " [133.   0.   0. ...   0.   0.   0.]\n",
      " [ 75.   1.   0. ...   0.   1.   0.]\n",
      " ...\n",
      " [103.   1.   0. ...   0.   0.   0.]\n",
      " [ 67.   0.   0. ...   0.   1.   0.]\n",
      " [ 15.   0.   0. ...   0.   0.   0.]]\n"
     ]
    }
   ],
   "source": [
    "from sklearn import model_selection\n",
    "x_train, x_test, y_train, y_test = model_selection.train_test_split(pt_info_array, \\\n",
    "                                                                    pt_info_array[:,2], \\ #mrsa positive \n",
    "                                                                    test_size=0.2, \\\n",
    "                                                                    random_state=430)"
   ]
  },
  {
   "cell_type": "code",
   "execution_count": 21,
   "metadata": {},
   "outputs": [
    {
     "data": {
      "text/plain": [
       "LogisticRegression(max_iter=1000, multi_class='multinomial', random_state=0)"
      ]
     },
     "execution_count": 21,
     "metadata": {},
     "output_type": "execute_result"
    }
   ],
   "source": [
    "from sklearn.linear_model import LogisticRegression\n",
    "\n",
    "model = LogisticRegression(C=1.0, class_weight=None, dual=False, fit_intercept=True,\n",
    "                   intercept_scaling=1, l1_ratio=None, max_iter=1000,\n",
    "                   multi_class='multinomial', n_jobs=None, penalty='l2',\n",
    "                   random_state=0, solver='lbfgs', tol=0.0001, verbose=0,\n",
    "                   warm_start=False)\n",
    "model.fit(x_train, y_train)"
   ]
  },
  {
   "cell_type": "code",
   "execution_count": 22,
   "metadata": {},
   "outputs": [],
   "source": [
    "predictions = model.predict(x_test)"
   ]
  },
  {
   "cell_type": "code",
   "execution_count": 23,
   "metadata": {},
   "outputs": [
    {
     "ename": "ModuleNotFoundError",
     "evalue": "No module named 'altair'",
     "output_type": "error",
     "traceback": [
      "\u001b[0;31m---------------------------------------------------------------------------\u001b[0m",
      "\u001b[0;31mModuleNotFoundError\u001b[0m                       Traceback (most recent call last)",
      "\u001b[0;32m<ipython-input-23-ebfc5ba7d168>\u001b[0m in \u001b[0;36m<module>\u001b[0;34m\u001b[0m\n\u001b[0;32m----> 1\u001b[0;31m \u001b[0;32mfrom\u001b[0m \u001b[0mmlworkflows\u001b[0m \u001b[0;32mimport\u001b[0m \u001b[0mplot\u001b[0m\u001b[0;34m\u001b[0m\u001b[0m\n\u001b[0m\u001b[1;32m      2\u001b[0m \u001b[0;34m\u001b[0m\u001b[0m\n\u001b[1;32m      3\u001b[0m \u001b[0mdf\u001b[0m\u001b[0;34m,\u001b[0m \u001b[0mchart\u001b[0m \u001b[0;34m=\u001b[0m \u001b[0mplot\u001b[0m\u001b[0;34m.\u001b[0m\u001b[0mbinary_confusion_matrix\u001b[0m\u001b[0;34m(\u001b[0m\u001b[0my_test\u001b[0m\u001b[0;34m,\u001b[0m \u001b[0mpredictions\u001b[0m\u001b[0;34m)\u001b[0m\u001b[0;34m\u001b[0m\u001b[0m\n\u001b[1;32m      4\u001b[0m \u001b[0mchart\u001b[0m\u001b[0;34m\u001b[0m\u001b[0m\n",
      "\u001b[0;32m~/hai-project/notebooks/mlworkflows/plot.py\u001b[0m in \u001b[0;36m<module>\u001b[0;34m\u001b[0m\n\u001b[0;32m----> 1\u001b[0;31m \u001b[0;32mimport\u001b[0m \u001b[0maltair\u001b[0m \u001b[0;32mas\u001b[0m \u001b[0malt\u001b[0m\u001b[0;34m\u001b[0m\u001b[0m\n\u001b[0m\u001b[1;32m      2\u001b[0m \u001b[0;32mimport\u001b[0m \u001b[0mpandas\u001b[0m \u001b[0;32mas\u001b[0m \u001b[0mpd\u001b[0m\u001b[0;34m\u001b[0m\u001b[0m\n\u001b[1;32m      3\u001b[0m \u001b[0;32mimport\u001b[0m \u001b[0mnumpy\u001b[0m \u001b[0;32mas\u001b[0m \u001b[0mnp\u001b[0m\u001b[0;34m\u001b[0m\u001b[0m\n\u001b[1;32m      4\u001b[0m \u001b[0;34m\u001b[0m\u001b[0m\n\u001b[1;32m      5\u001b[0m \u001b[0;34m\u001b[0m\u001b[0m\n",
      "\u001b[0;31mModuleNotFoundError\u001b[0m: No module named 'altair'"
     ]
    }
   ],
   "source": [
    "from mlworkflows import plot\n",
    "\n",
    "df, chart = plot.binary_confusion_matrix(y_test, predictions)\n",
    "chart"
   ]
  },
  {
   "cell_type": "code",
   "execution_count": 12,
   "metadata": {},
   "outputs": [
    {
     "data": {
      "text/plain": [
       "<Figure size 432x288 with 0 Axes>"
      ]
     },
     "metadata": {},
     "output_type": "display_data"
    }
   ],
   "source": [
    "from matplotlib import pyplot as plt\n",
    "plt.savefig('../reports/figures/logistic_confusion_matrix.png')"
   ]
  },
  {
   "cell_type": "markdown",
   "metadata": {},
   "source": [
    "We want to save the model so that we can use it outside of this notebook."
   ]
  },
  {
   "cell_type": "code",
   "execution_count": 13,
   "metadata": {},
   "outputs": [
    {
     "data": {
      "text/plain": [
       "LogisticRegression(max_iter=1000, multi_class='multinomial', random_state=0)"
      ]
     },
     "execution_count": 13,
     "metadata": {},
     "output_type": "execute_result"
    }
   ],
   "source": [
    "model"
   ]
  },
  {
   "cell_type": "code",
   "execution_count": 14,
   "metadata": {},
   "outputs": [],
   "source": [
    "from mlworkflows import util\n",
    "util.serialize_to(model, \"../models/logistic_model.sav\")"
   ]
  },
  {
   "cell_type": "code",
   "execution_count": null,
   "metadata": {},
   "outputs": [],
   "source": []
  }
 ],
 "metadata": {
  "kernelspec": {
   "display_name": "Python 3",
   "language": "python",
   "name": "python3"
  },
  "language_info": {
   "codemirror_mode": {
    "name": "ipython",
    "version": 3
   },
   "file_extension": ".py",
   "mimetype": "text/x-python",
   "name": "python",
   "nbconvert_exporter": "python",
   "pygments_lexer": "ipython3",
   "version": "3.6.5"
  }
 },
 "nbformat": 4,
 "nbformat_minor": 4
}
