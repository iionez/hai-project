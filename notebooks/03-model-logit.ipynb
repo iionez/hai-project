{
 "cells": [
  {
   "cell_type": "code",
   "execution_count": 2,
   "metadata": {},
   "outputs": [],
   "source": [
    "import pandas as pd\n",
    "import sklearn\n",
    "\n",
    "pt_info_clean = pd.read_csv(\"../data/interim/pt_info_clean.csv\")"
   ]
  },
  {
   "cell_type": "code",
   "execution_count": 3,
   "metadata": {},
   "outputs": [
    {
     "name": "stderr",
     "output_type": "stream",
     "text": [
      "/Users/isabelzimmerman/.local/share/virtualenvs/isabelzimmerman-n-Uyvjwz/lib/python3.8/site-packages/sklearn/utils/deprecation.py:143: FutureWarning: The sklearn.feature_extraction.stop_words module is  deprecated in version 0.22 and will be removed in version 0.24. The corresponding classes / functions should instead be imported from sklearn.feature_extraction.text. Anything that cannot be imported from sklearn.feature_extraction.text is now part of the private API.\n",
      "  warnings.warn(message, FutureWarning)\n"
     ]
    }
   ],
   "source": [
    "from sklearn.pipeline import Pipeline\n",
    "import pickle, os\n",
    "\n",
    "# loading in feature vectors pipeline\n",
    "filename = 'feature_pipeline.sav'\n",
    "feat_pipeline = pickle.load(open(filename, 'rb'))\n",
    "\n",
    "feature_pipeline = Pipeline([\n",
    "    ('features',feat_pipeline)\n",
    "])"
   ]
  },
  {
   "cell_type": "markdown",
   "metadata": {},
   "source": [
    "split into training and test"
   ]
  },
  {
   "cell_type": "code",
   "execution_count": 4,
   "metadata": {},
   "outputs": [
    {
     "name": "stdout",
     "output_type": "stream",
     "text": [
      "     Unnamed: 0  mrsa_positive   MITRAL REGURGITATION  ABDOMINAL PAIN  \\\n",
      "101         101            1.0                      0               0   \n",
      "16           16            0.0                      0               0   \n",
      "107         107            0.0                      0               0   \n",
      "135         135            0.0                      0               0   \n",
      "26           26            0.0                      0               0   \n",
      "..          ...            ...                    ...             ...   \n",
      "18           18            0.0                      0               0   \n",
      "33           33            0.0                      0               0   \n",
      "106         106            0.0                      0               0   \n",
      "59           59            0.0                      0               0   \n",
      "72           72            0.0                      0               1   \n",
      "\n",
      "     ABSCESS  ACUTE CHOLANGITIS  ACUTE CHOLECYSTITIS  \\\n",
      "101        0                  0                    0   \n",
      "16         0                  0                    0   \n",
      "107        0                  0                    0   \n",
      "135        0                  0                    0   \n",
      "26         0                  0                    0   \n",
      "..       ...                ...                  ...   \n",
      "18         0                  0                    0   \n",
      "33         0                  0                    0   \n",
      "106        0                  0                    0   \n",
      "59         0                  1                    0   \n",
      "72         0                  0                    0   \n",
      "\n",
      "     ACUTE PULMONARY EMBOLISM  ACUTE RENAL FAILURE  \\\n",
      "101                         0                    0   \n",
      "16                          0                    0   \n",
      "107                         0                    0   \n",
      "135                         0                    0   \n",
      "26                          0                    0   \n",
      "..                        ...                  ...   \n",
      "18                          0                    0   \n",
      "33                          0                    0   \n",
      "106                         0                    0   \n",
      "59                          0                    0   \n",
      "72                          0                    0   \n",
      "\n",
      "     ACUTE RESPIRATORY DISTRESS SYNDROME  ...  \\\n",
      "101                                    0  ...   \n",
      "16                                     0  ...   \n",
      "107                                    0  ...   \n",
      "135                                    0  ...   \n",
      "26                                     0  ...   \n",
      "..                                   ...  ...   \n",
      "18                                     0  ...   \n",
      "33                                     0  ...   \n",
      "106                                    0  ...   \n",
      "59                                     0  ...   \n",
      "72                                     0  ...   \n",
      "\n",
      "     ethnicity_UNKNOWN/NOT SPECIFIED  ethnicity_WHITE  \\\n",
      "101                                0                0   \n",
      "16                                 1                0   \n",
      "107                                0                1   \n",
      "135                                0                1   \n",
      "26                                 1                0   \n",
      "..                               ...              ...   \n",
      "18                                 0                1   \n",
      "33                                 0                1   \n",
      "106                                0                1   \n",
      "59                                 0                1   \n",
      "72                                 0                1   \n",
      "\n",
      "     admission_type_ELECTIVE  admission_type_EMERGENCY  admission_type_URGENT  \\\n",
      "101                        0                         1                      0   \n",
      "16                         0                         1                      0   \n",
      "107                        0                         1                      0   \n",
      "135                        0                         1                      0   \n",
      "26                         0                         1                      0   \n",
      "..                       ...                       ...                    ...   \n",
      "18                         0                         1                      0   \n",
      "33                         0                         1                      0   \n",
      "106                        0                         1                      0   \n",
      "59                         0                         1                      0   \n",
      "72                         0                         1                      0   \n",
      "\n",
      "     admission_location_CLINIC REFERRAL/PREMATURE  \\\n",
      "101                                             0   \n",
      "16                                              0   \n",
      "107                                             0   \n",
      "135                                             0   \n",
      "26                                              0   \n",
      "..                                            ...   \n",
      "18                                              0   \n",
      "33                                              0   \n",
      "106                                             0   \n",
      "59                                              0   \n",
      "72                                              0   \n",
      "\n",
      "     admission_location_EMERGENCY ROOM ADMIT  \\\n",
      "101                                        0   \n",
      "16                                         1   \n",
      "107                                        1   \n",
      "135                                        1   \n",
      "26                                         1   \n",
      "..                                       ...   \n",
      "18                                         1   \n",
      "33                                         1   \n",
      "106                                        1   \n",
      "59                                         0   \n",
      "72                                         1   \n",
      "\n",
      "     admission_location_PHYS REFERRAL/NORMAL DELI  \\\n",
      "101                                             0   \n",
      "16                                              0   \n",
      "107                                             0   \n",
      "135                                             0   \n",
      "26                                              0   \n",
      "..                                            ...   \n",
      "18                                              0   \n",
      "33                                              0   \n",
      "106                                             0   \n",
      "59                                              0   \n",
      "72                                              0   \n",
      "\n",
      "     admission_location_TRANSFER FROM HOSP/EXTRAM  \\\n",
      "101                                             0   \n",
      "16                                              0   \n",
      "107                                             0   \n",
      "135                                             0   \n",
      "26                                              0   \n",
      "..                                            ...   \n",
      "18                                              0   \n",
      "33                                              0   \n",
      "106                                             0   \n",
      "59                                              1   \n",
      "72                                              0   \n",
      "\n",
      "     admission_location_TRANSFER FROM SKILLED NUR  \n",
      "101                                             1  \n",
      "16                                              0  \n",
      "107                                             0  \n",
      "135                                             0  \n",
      "26                                              0  \n",
      "..                                            ...  \n",
      "18                                              0  \n",
      "33                                              0  \n",
      "106                                             0  \n",
      "59                                              0  \n",
      "72                                              0  \n",
      "\n",
      "[115 rows x 125 columns]\n"
     ]
    }
   ],
   "source": [
    "from sklearn import model_selection\n",
    "x_train, x_test, y_train, y_test = model_selection.train_test_split(pt_info_clean, \\\n",
    "                                                                    pt_info_clean['mrsa_positive'], \\\n",
    "                                                                    test_size=0.2)\n",
    "print(x_train)"
   ]
  },
  {
   "cell_type": "code",
   "execution_count": 5,
   "metadata": {},
   "outputs": [
    {
     "name": "stderr",
     "output_type": "stream",
     "text": [
      "/Users/isabelzimmerman/.local/share/virtualenvs/isabelzimmerman-n-Uyvjwz/lib/python3.8/site-packages/sklearn/linear_model/_logistic.py:762: ConvergenceWarning: lbfgs failed to converge (status=1):\n",
      "STOP: TOTAL NO. of ITERATIONS REACHED LIMIT.\n",
      "\n",
      "Increase the number of iterations (max_iter) or scale the data as shown in:\n",
      "    https://scikit-learn.org/stable/modules/preprocessing.html\n",
      "Please also refer to the documentation for alternative solver options:\n",
      "    https://scikit-learn.org/stable/modules/linear_model.html#logistic-regression\n",
      "  n_iter_i = _check_optimize_result(\n"
     ]
    },
    {
     "data": {
      "text/plain": [
       "LogisticRegression(random_state=0)"
      ]
     },
     "execution_count": 5,
     "metadata": {},
     "output_type": "execute_result"
    }
   ],
   "source": [
    "from sklearn.linear_model import LogisticRegression\n",
    "\n",
    "logit = LogisticRegression(random_state=0)\n",
    "logit.fit(x_train, y_train)"
   ]
  },
  {
   "cell_type": "code",
   "execution_count": 6,
   "metadata": {},
   "outputs": [],
   "source": [
    "predictions = logit.predict(x_test)"
   ]
  },
  {
   "cell_type": "code",
   "execution_count": 7,
   "metadata": {},
   "outputs": [
    {
     "data": {
      "text/html": [
       "\n",
       "<div id=\"altair-viz-7b0bd0a6bb3d4c4498aeff8cc42151f0\"></div>\n",
       "<script type=\"text/javascript\">\n",
       "  (function(spec, embedOpt){\n",
       "    let outputDiv = document.currentScript.previousElementSibling;\n",
       "    if (outputDiv.id !== \"altair-viz-7b0bd0a6bb3d4c4498aeff8cc42151f0\") {\n",
       "      outputDiv = document.getElementById(\"altair-viz-7b0bd0a6bb3d4c4498aeff8cc42151f0\");\n",
       "    }\n",
       "    const paths = {\n",
       "      \"vega\": \"https://cdn.jsdelivr.net/npm//vega@5?noext\",\n",
       "      \"vega-lib\": \"https://cdn.jsdelivr.net/npm//vega-lib?noext\",\n",
       "      \"vega-lite\": \"https://cdn.jsdelivr.net/npm//vega-lite@4.8.1?noext\",\n",
       "      \"vega-embed\": \"https://cdn.jsdelivr.net/npm//vega-embed@6?noext\",\n",
       "    };\n",
       "\n",
       "    function loadScript(lib) {\n",
       "      return new Promise(function(resolve, reject) {\n",
       "        var s = document.createElement('script');\n",
       "        s.src = paths[lib];\n",
       "        s.async = true;\n",
       "        s.onload = () => resolve(paths[lib]);\n",
       "        s.onerror = () => reject(`Error loading script: ${paths[lib]}`);\n",
       "        document.getElementsByTagName(\"head\")[0].appendChild(s);\n",
       "      });\n",
       "    }\n",
       "\n",
       "    function showError(err) {\n",
       "      outputDiv.innerHTML = `<div class=\"error\" style=\"color:red;\">${err}</div>`;\n",
       "      throw err;\n",
       "    }\n",
       "\n",
       "    function displayChart(vegaEmbed) {\n",
       "      vegaEmbed(outputDiv, spec, embedOpt)\n",
       "        .catch(err => showError(`Javascript Error: ${err.message}<br>This usually means there's a typo in your chart specification. See the javascript console for the full traceback.`));\n",
       "    }\n",
       "\n",
       "    if(typeof define === \"function\" && define.amd) {\n",
       "      requirejs.config({paths});\n",
       "      require([\"vega-embed\"], displayChart, err => showError(`Error loading script: ${err.message}`));\n",
       "    } else if (typeof vegaEmbed === \"function\") {\n",
       "      displayChart(vegaEmbed);\n",
       "    } else {\n",
       "      loadScript(\"vega\")\n",
       "        .then(() => loadScript(\"vega-lite\"))\n",
       "        .then(() => loadScript(\"vega-embed\"))\n",
       "        .catch(showError)\n",
       "        .then(() => displayChart(vegaEmbed));\n",
       "    }\n",
       "  })({\"config\": {\"view\": {\"continuousWidth\": 400, \"continuousHeight\": 300}}, \"data\": {\"name\": \"data-f8bb6d487fcb58237187f10e4a929839\"}, \"mark\": \"rect\", \"encoding\": {\"color\": {\"type\": \"quantitative\", \"field\": \"value\"}, \"tooltip\": [{\"type\": \"quantitative\", \"field\": \"raw_count\"}], \"x\": {\"type\": \"ordinal\", \"field\": \"predicted\"}, \"y\": {\"type\": \"ordinal\", \"field\": \"actual\"}}, \"height\": 215, \"width\": 215, \"$schema\": \"https://vega.github.io/schema/vega-lite/v4.8.1.json\", \"datasets\": {\"data-f8bb6d487fcb58237187f10e4a929839\": [{\"actual\": 0.0, \"predicted\": 0.0, \"raw_count\": 22, \"value\": 1.0}, {\"actual\": 0.0, \"predicted\": 1.0, \"raw_count\": 0, \"value\": 0.0}, {\"actual\": 1.0, \"predicted\": 0.0, \"raw_count\": 0, \"value\": 0.0}, {\"actual\": 1.0, \"predicted\": 1.0, \"raw_count\": 7, \"value\": 1.0}]}}, {\"mode\": \"vega-lite\"});\n",
       "</script>"
      ],
      "text/plain": [
       "alt.Chart(...)"
      ]
     },
     "execution_count": 7,
     "metadata": {},
     "output_type": "execute_result"
    }
   ],
   "source": [
    "from mlworkflows import plot\n",
    "\n",
    "df, chart = plot.binary_confusion_matrix(y_test, predictions)\n",
    "chart"
   ]
  },
  {
   "cell_type": "markdown",
   "metadata": {},
   "source": [
    "We want to save the model so that we can use it outside of this notebook."
   ]
  },
  {
   "cell_type": "code",
   "execution_count": null,
   "metadata": {},
   "outputs": [],
   "source": [
    "model"
   ]
  },
  {
   "cell_type": "code",
   "execution_count": null,
   "metadata": {},
   "outputs": [],
   "source": [
    "from mlworkflows import util\n",
    "util.serialize_to(model, \"model.sav\")"
   ]
  }
 ],
 "metadata": {
  "kernelspec": {
   "display_name": "Python 3",
   "language": "python",
   "name": "python3"
  },
  "language_info": {
   "codemirror_mode": {
    "name": "ipython",
    "version": 3
   },
   "file_extension": ".py",
   "mimetype": "text/x-python",
   "name": "python",
   "nbconvert_exporter": "python",
   "pygments_lexer": "ipython3",
   "version": "3.8.3"
  }
 },
 "nbformat": 4,
 "nbformat_minor": 4
}
