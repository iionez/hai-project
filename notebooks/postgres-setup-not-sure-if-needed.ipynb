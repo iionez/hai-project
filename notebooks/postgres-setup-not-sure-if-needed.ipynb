{
 "cells": [
  {
   "cell_type": "code",
   "execution_count": 2,
   "metadata": {},
   "outputs": [],
   "source": [
    "import pg8000\n",
    "import sqlalchemy\n",
    "from sqlalchemy import create_engine"
   ]
  },
  {
   "cell_type": "code",
   "execution_count": 3,
   "metadata": {},
   "outputs": [],
   "source": [
    "conn = pg8000.connect(user=\"mimic\", \\\n",
    "                      database=\"mimic\", \\\n",
    "                      port=5432)"
   ]
  },
  {
   "cell_type": "code",
   "execution_count": 4,
   "metadata": {},
   "outputs": [],
   "source": [
    "# pg8000\n",
    "engine = create_engine('postgresql+pg8000://mimic:@localhost/mimiciii', \\\n",
    "                       client_encoding='utf8')"
   ]
  },
  {
   "cell_type": "code",
   "execution_count": null,
   "metadata": {},
   "outputs": [],
   "source": [
    "! oc new-app \\\n",
    "-e POSTGRESQL_USER=mimic \\ \n",
    "-e POSTGRESQL_DATABASE=mimic \\ \n",
    "openshift/postgresql:9.6"
   ]
  },
  {
   "cell_type": "code",
   "execution_count": null,
   "metadata": {},
   "outputs": [],
   "source": [
    "! oc rsh postgresql-565b68c77f-gj6ch"
   ]
  },
  {
   "cell_type": "code",
   "execution_count": null,
   "metadata": {},
   "outputs": [],
   "source": [
    "! psql -d superset"
   ]
  },
  {
   "cell_type": "code",
   "execution_count": null,
   "metadata": {},
   "outputs": [],
   "source": [
    "! GRANT SELECT ON ALL TABLES IN SCHEMA mimic TO \"userEKY\";"
   ]
  },
  {
   "cell_type": "markdown",
   "metadata": {},
   "source": [
    "You must have PostgreSQL downloaded. For installation, click [here](http://www.postgresql.org/download/). The data required for this workbook is located under the data file, readily accessed [here]('../data/raw'). "
   ]
  },
  {
   "cell_type": "code",
   "execution_count": 6,
   "metadata": {},
   "outputs": [
    {
     "name": "stdout",
     "output_type": "stream",
     "text": [
      "createuser: error: too many command-line arguments (first is \"mimicuser\")\r\n",
      "Try \"createuser --help\" for more information.\r\n"
     ]
    }
   ],
   "source": [
    "! createuser -s -e -d demo "
   ]
  },
  {
   "cell_type": "code",
   "execution_count": 7,
   "metadata": {},
   "outputs": [
    {
     "name": "stdout",
     "output_type": "stream",
     "text": [
      "psql: error: could not connect to server: FATAL:  role \"username\" does not exist\r\n"
     ]
    }
   ],
   "source": [
    "# connect to the default database 'postgres'\n",
    "! psql -U demo -d postgres"
   ]
  },
  {
   "cell_type": "code",
   "execution_count": null,
   "metadata": {},
   "outputs": [],
   "source": [
    "#create database\n",
    "! CREATE DATABASE hai_data OWNER demo;\n",
    "\\q"
   ]
  },
  {
   "cell_type": "markdown",
   "metadata": {},
   "source": [
    "Make sure you are in root directory for these next commands"
   ]
  },
  {
   "cell_type": "code",
   "execution_count": null,
   "metadata": {},
   "outputs": [],
   "source": [
    "cd ./deploy\n",
    "! psql 'dbname=hai_data user=demo' -f ./deploy/create_tables.sql"
   ]
  },
  {
   "cell_type": "code",
   "execution_count": null,
   "metadata": {},
   "outputs": [],
   "source": [
    "psql 'dbname=hai_data user=demo' -f ./deploy/load_data.sql"
   ]
  }
 ],
 "metadata": {
  "kernelspec": {
   "display_name": "Python 3",
   "language": "python",
   "name": "python3"
  },
  "language_info": {
   "codemirror_mode": {
    "name": "ipython",
    "version": 3
   },
   "file_extension": ".py",
   "mimetype": "text/x-python",
   "name": "python",
   "nbconvert_exporter": "python",
   "pygments_lexer": "ipython3",
   "version": "3.6.5"
  }
 },
 "nbformat": 4,
 "nbformat_minor": 4
}
